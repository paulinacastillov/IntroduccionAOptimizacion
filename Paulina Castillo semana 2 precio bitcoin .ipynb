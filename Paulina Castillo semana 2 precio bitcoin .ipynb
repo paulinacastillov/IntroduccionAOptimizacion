{
 "cells": [
  {
   "cell_type": "markdown",
   "id": "feac6441",
   "metadata": {},
   "source": [
    "## Datos de n días del precio de bitcoin\n",
    "### haré un modelo que reciba 7 días y prediga los siguientes 7"
   ]
  },
  {
   "cell_type": "code",
   "execution_count": 3,
   "id": "15e55c75",
   "metadata": {},
   "outputs": [
    {
     "data": {
      "text/plain": [
       "8-element Vector{Int64}:\n",
       " 44420\n",
       " 43913\n",
       " 42463\n",
       " 39143\n",
       " 39396\n",
       " 38403\n",
       " 38025\n",
       " 38745"
      ]
     },
     "execution_count": 3,
     "metadata": {},
     "output_type": "execute_result"
    }
   ],
   "source": [
    "precio = #Valores del 1 al 8 del marzo\n",
    "[\n",
    "44420\n",
    "43913\n",
    "42463\n",
    "39143\n",
    "39396\n",
    "38403\n",
    "38025\n",
    "38745\n",
    "]\n",
    "\n",
    "\n"
   ]
  },
  {
   "cell_type": "code",
   "execution_count": 4,
   "id": "6743ee28",
   "metadata": {},
   "outputs": [
    {
     "data": {
      "text/plain": [
       "8-element Vector{Int64}:\n",
       " 1\n",
       " 2\n",
       " 3\n",
       " 4\n",
       " 5\n",
       " 6\n",
       " 7\n",
       " 8"
      ]
     },
     "execution_count": 4,
     "metadata": {},
     "output_type": "execute_result"
    }
   ],
   "source": [
    "n = length(precio) #Número de días a mi preferencia\n",
    "dias = [i for i in 1:n]"
   ]
  },
  {
   "cell_type": "code",
   "execution_count": 5,
   "id": "2ab1a218",
   "metadata": {},
   "outputs": [],
   "source": [
    "using SpecialMatrices"
   ]
  },
  {
   "cell_type": "code",
   "execution_count": 6,
   "id": "915ff95a",
   "metadata": {},
   "outputs": [
    {
     "data": {
      "text/plain": [
       "8-element Vector{Float64}:\n",
       "  160059.46016926627\n",
       " -286165.76005492767\n",
       "  269272.3735221243\n",
       " -127529.58689455429\n",
       "   33283.1026459566\n",
       "   -4860.004740815467\n",
       "     372.03665533806463\n",
       "     -11.621666842798055"
      ]
     },
     "execution_count": 6,
     "metadata": {},
     "output_type": "execute_result"
    }
   ],
   "source": [
    "matrix = Vandermonde(dias) # Creo una matriz de tamaño nxn de vandermont  buscando interpolar mis datos\n",
    "Tmatrix = transpose(matrix)\n",
    "A = Tmatrix*matrix # metodo de minimos cuadrados\n",
    "b = Tmatrix*precio\n",
    "x = A\\b \n",
    " #el resultado es un vector con los coeficientes de mi polinomio"
   ]
  },
  {
   "cell_type": "code",
   "execution_count": 7,
   "id": "6612eecd",
   "metadata": {},
   "outputs": [
    {
     "data": {
      "text/plain": [
       "f (generic function with 1 method)"
      ]
     },
     "execution_count": 7,
     "metadata": {},
     "output_type": "execute_result"
    }
   ],
   "source": [
    "function f(a::Int) # Polinomio con los valores anteriores\n",
    "    poly = 0 \n",
    "    for i in 1:n\n",
    "        poly += x[i]*a^(i-1)\n",
    "    end\n",
    "    return(poly)\n",
    "end\n"
   ]
  },
  {
   "cell_type": "code",
   "execution_count": 8,
   "id": "16cfdc8f",
   "metadata": {
    "scrolled": true
   },
   "outputs": [
    {
     "name": "stdout",
     "output_type": "stream",
     "text": [
      "[38745.00016500428, -51962.53936893493, -653408.3946184516, -2.9461844378096163e6, -9.565951925262332e6, -2.5615095401054025e7, -6.005081541859937e7]\n"
     ]
    }
   ],
   "source": [
    "# predicciones\n",
    "\n",
    "# Las predicciones para la siguiente semana son\n",
    "pronostico = Vector{Float64}()\n",
    "for i in 1:7 \n",
    "    append!(pronostico, f(7+i))\n",
    "end\n",
    "println(pronostico)"
   ]
  },
  {
   "cell_type": "markdown",
   "id": "2fecae49",
   "metadata": {},
   "source": [
    "Valores de precio en miles de dolares (real) de la semana son"
   ]
  },
  {
   "cell_type": "code",
   "execution_count": 9,
   "id": "bab08255",
   "metadata": {},
   "outputs": [
    {
     "data": {
      "text/plain": [
       "7-element Vector{Int64}:\n",
       " 39581\n",
       " 39671\n",
       " 37792\n",
       " 38814\n",
       " 38730\n",
       " 39416\n",
       " 41929"
      ]
     },
     "execution_count": 9,
     "metadata": {},
     "output_type": "execute_result"
    }
   ],
   "source": [
    "Valores=[ #valores del9 al 15 de marzo\n",
    "39581\n",
    "39671\n",
    "37792\n",
    "38814\n",
    "38730\n",
    "39416\n",
    "41929\n",
    "]"
   ]
  },
  {
   "cell_type": "code",
   "execution_count": 10,
   "id": "0822895c",
   "metadata": {},
   "outputs": [
    {
     "data": {
      "text/plain": [
       "7-element Vector{Float64}:\n",
       "    835.9998349957168\n",
       "  91633.53936893493\n",
       " 691200.3946184516\n",
       "      2.9849984378096163e6\n",
       "      9.604681925262332e6\n",
       "      2.5654511401054025e7\n",
       "      6.009274441859937e7"
      ]
     },
     "execution_count": 10,
     "metadata": {},
     "output_type": "execute_result"
    }
   ],
   "source": [
    "diferencia = Valores-pronostico\n"
   ]
  },
  {
   "cell_type": "code",
   "execution_count": 13,
   "id": "de8ff5c7",
   "metadata": {},
   "outputs": [
    {
     "data": {
      "text/plain": [
       "7-element Vector{Float64}:\n",
       "      2.1121240873037994\n",
       "    230.98368926655473\n",
       "   1828.95955392266\n",
       "   7690.520012906725\n",
       "  24799.075458978394\n",
       "  65086.542016069674\n",
       " 143320.2423587478"
      ]
     },
     "execution_count": 13,
     "metadata": {},
     "output_type": "execute_result"
    }
   ],
   "source": [
    "eror_individual=(diferencia)./Valores *100 #porcentaje error pronosticado al real"
   ]
  },
  {
   "cell_type": "code",
   "execution_count": 14,
   "id": "abebc279",
   "metadata": {},
   "outputs": [
    {
     "data": {
      "text/plain": [
       "6.244197389907224e14"
      ]
     },
     "execution_count": 14,
     "metadata": {},
     "output_type": "execute_result"
    }
   ],
   "source": [
    "error_promedio = sum(diferencia.^2)/7"
   ]
  },
  {
   "cell_type": "markdown",
   "id": "fba03a41",
   "metadata": {},
   "source": [
    "## Analisis\n",
    "\n",
    "Vemos que el día 8, es decir el primero que se pronostica, tiene un error de 800 dolares, lo cual resulta en un error del 2%, lo que yo consideraría un buen error. Este metodo tiene  problemas en que fluctua  demasiado y que además al tender infinito crecerá (o decrecerá) de maneras absurdas, las cuales no son utiles a la hora de predecir muchos valores adeante.\n",
    "\n"
   ]
  },
  {
   "cell_type": "markdown",
   "id": "170c0946",
   "metadata": {},
   "source": [
    "## Punto 2\n",
    "\n",
    "A la hora de relacionar el precio del bitcoin con otros comodines se hará exactamente el mismo proceso descrito anteiormente con la diferencia de que los valores ingresados en la matriz de vandermont ya no serán los días si no los promedios mensuales de los precios de los comodines en el mes según la pág :https://es.investing.com/. y se predecirán los valores promedios del año 2022 (enero, febrero y marzo)"
   ]
  },
  {
   "cell_type": "code",
   "execution_count": 17,
   "id": "1e9abdb6",
   "metadata": {},
   "outputs": [
    {
     "data": {
      "text/plain": [
       "3-element Vector{Int64}:\n",
       " 1817\n",
       " 1883\n",
       " 1987"
      ]
     },
     "execution_count": 17,
     "metadata": {},
     "output_type": "execute_result"
    }
   ],
   "source": [
    "#Valores promedio en mes de enero 2021 a diciembre 2021\n",
    "\n",
    "bitcoin =reverse( \n",
    "[\n",
    "50826\n",
    "61219\n",
    "55130\n",
    "46266\n",
    "43932\n",
    "35798\n",
    "35110\n",
    "44893\n",
    "55938\n",
    "53402\n",
    "45330\n",
    "35063\n",
    "])\n",
    "\n",
    "petroleo=\n",
    "reverse(\n",
    "[\n",
    "73\n",
    "78\n",
    "82\n",
    "76\n",
    "70\n",
    "73\n",
    "73\n",
    "67\n",
    "65\n",
    "66\n",
    "61\n",
    "54\n",
    "])\n",
    "\n",
    "\n",
    "\n",
    "plata=\n",
    "reverse(\n",
    "[\n",
    "22\n",
    "24\n",
    "23\n",
    "23\n",
    "24\n",
    "26\n",
    "27\n",
    "27\n",
    "26\n",
    "25\n",
    "28\n",
    "26\n",
    "])\n",
    "\n",
    "oro =\n",
    "reverse([\n",
    "1792\n",
    "1821\n",
    "1783\n",
    "1781\n",
    "1759\n",
    "1808\n",
    "1840\n",
    "1850\n",
    "1761\n",
    "1723\n",
    "1803\n",
    "1903\n",
    "])\n",
    "\n",
    "#valores de los comodines enero, febrero y marzo 2022\n",
    "\n",
    "\n",
    "bitcoin_real=reverse([41238\n",
    "40056\n",
    "40465])\n",
    "\n",
    "petroleo_real=reverse([115\n",
    "97\n",
    "84])\n",
    "\n",
    "plata_real=reverse([26\n",
    "24\n",
    "23])\n",
    "\n",
    "\n",
    "oro_real=reverse([1987\n",
    "1883\n",
    "1817])\n"
   ]
  },
  {
   "cell_type": "code",
   "execution_count": 18,
   "id": "35f359be",
   "metadata": {},
   "outputs": [
    {
     "data": {
      "text/plain": [
       "coso (generic function with 1 method)"
      ]
     },
     "execution_count": 18,
     "metadata": {},
     "output_type": "execute_result"
    }
   ],
   "source": [
    "function coso(p)\n",
    "    n = length(bitcoin) #Número de meses(12) a mi preferencia\n",
    "    matrix = Vandermonde(p) # Creo una matriz de tamaño nxn de vandermont  buscando interpolar mis datos\n",
    "    Tmatrix = transpose(matrix)\n",
    "    A = Tmatrix*matrix # metodo de minimos cuadrados\n",
    "    b = Tmatrix*bitcoin\n",
    "    x = A\\b \n",
    "end\n",
    "\n"
   ]
  },
  {
   "cell_type": "code",
   "execution_count": 19,
   "id": "8a4647e5",
   "metadata": {},
   "outputs": [
    {
     "data": {
      "text/plain": [
       "12-element Vector{Float64}:\n",
       " 188786.2319388013\n",
       "  -6702.188469179753\n",
       "    -59.99556163766554\n",
       "      4.000335857817275\n",
       "      1.8287640718896155e-5\n",
       "      8.687262227191853e-7\n",
       "      3.78429918996171e-8\n",
       "      1.5519232383403633e-9\n",
       "      5.911146028434285e-11\n",
       "      2.1488553476440643e-12\n",
       "      6.532847275345233e-14\n",
       "      1.9892665953730065e-15"
      ]
     },
     "execution_count": 19,
     "metadata": {},
     "output_type": "execute_result"
    }
   ],
   "source": [
    "coso(petroleo)\n",
    "coso(oro)\n",
    "coso(plata)"
   ]
  },
  {
   "cell_type": "code",
   "execution_count": 20,
   "id": "7c328fee",
   "metadata": {},
   "outputs": [
    {
     "data": {
      "text/plain": [
       "f_o (generic function with 1 method)"
      ]
     },
     "execution_count": 20,
     "metadata": {},
     "output_type": "execute_result"
    }
   ],
   "source": [
    "function f_p(a::Int) # Polinomio con los valores anteriores petroleo\n",
    "    poly = 0 \n",
    "    for i in 1:n\n",
    "        poly += coso(petroleo)[i]*a^(i-1)\n",
    "    end\n",
    "    return(poly)\n",
    "end\n",
    "\n",
    "\n",
    "\n",
    "function f_pl(a::Int) # Polinomio con los valores anteriores plata\n",
    "    poly = 0 \n",
    "    for i in 1:n\n",
    "        poly += coso(oro)[i]*a^(i-1)\n",
    "    end\n",
    "    return(poly)\n",
    "end\n",
    "\n",
    "function f_o(a::Int) # Polinomio con los valores anteriores oro\n",
    "    poly = 0 \n",
    "    for i in 1:n\n",
    "        poly += coso(plata)[i]*a^(i-1)\n",
    "    end\n",
    "    return(poly)\n",
    "end\n",
    "\n",
    "\n",
    "\n",
    "\n",
    "\n",
    "\n",
    "\n"
   ]
  },
  {
   "cell_type": "code",
   "execution_count": 23,
   "id": "30eef465",
   "metadata": {},
   "outputs": [],
   "source": [
    "pronostico_p = Vector{Float64}() #petroleo\n",
    "pronostico_pl = Vector{Float64}() #plata\n",
    "pronostico_o = Vector{Float64}() #oro\n",
    "\n",
    "for i in 1:3 \n",
    "    append!(pronostico_p, f_p(petroleo_real[i]))\n",
    "end\n",
    "\n",
    "\n",
    "for i in 1:3 \n",
    "    append!(pronostico_pl, f_pl(plata_real[i]))\n",
    "end\n",
    "\n",
    "for i in 1:3 \n",
    "    append!(pronostico_o, f_o(oro_real[i]))\n",
    "end\n",
    "\n",
    "\n"
   ]
  },
  {
   "cell_type": "code",
   "execution_count": 24,
   "id": "901668ce",
   "metadata": {},
   "outputs": [
    {
     "name": "stdout",
     "output_type": "stream",
     "text": [
      "[3.828508237070792e10, 9.114159376820314e10, 2.5411336970868726e11]\n",
      "[1.8309137060214716e8, 2.3806672270257148e8, 3.897155207050464e8]\n",
      "[2.8563759992041537e6, 1.8287082418012768e8, 1.5132077666527924e8]\n"
     ]
    }
   ],
   "source": [
    "error_individual_p = abs.(pronostico_p-petroleo_real)./petroleo_real\n",
    "error_individual_pl = abs.(pronostico_pl-plata_real)./plata_real\n",
    "error_individual_o = abs.(pronostico_o-oro_real)./oro_real\n",
    "\n",
    "println(error_individual_p)\n",
    "println(error_individual_pl)\n",
    "println(error_individual_o)"
   ]
  },
  {
   "cell_type": "code",
   "execution_count": 25,
   "id": "c5d84bb3",
   "metadata": {},
   "outputs": [
    {
     "name": "stdout",
     "output_type": "stream",
     "text": [
      "7.854056870548174e25\n",
      "1.2754022569764526e19\n",
      "1.741716874652804e22\n"
     ]
    }
   ],
   "source": [
    "error_promedio_p = sum((abs.(pronostico_p-petroleo_real)).^2)/12\n",
    "error_promedio_pl = sum((abs.(pronostico_pl-plata_real)).^2)/12\n",
    "error_promedio_o = sum((abs.(pronostico_o-oro_real)).^2)/12\n",
    "\n",
    "println(error_promedio_p)\n",
    "println(error_promedio_pl)\n",
    "println(error_promedio_o)"
   ]
  },
  {
   "cell_type": "markdown",
   "id": "10a6614a",
   "metadata": {},
   "source": [
    "Vemos que el error promedio menor es el de la plata pero dentro del modelo creado, ningún pronostico realmente es bueno. Por lo que se  puede afirmar que este modelo no predice correctamente los valores del bitcoin a partir de otros comodines."
   ]
  }
 ],
 "metadata": {
  "kernelspec": {
   "display_name": "Julia 1.7.2",
   "language": "julia",
   "name": "julia-1.7"
  },
  "language_info": {
   "file_extension": ".jl",
   "mimetype": "application/julia",
   "name": "julia",
   "version": "1.7.2"
  }
 },
 "nbformat": 4,
 "nbformat_minor": 5
}
