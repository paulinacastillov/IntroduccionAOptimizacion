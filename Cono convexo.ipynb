{
 "cells": [
  {
   "cell_type": "markdown",
   "id": "ef0c13ff",
   "metadata": {},
   "source": [
    "# Cono convexo"
   ]
  },
  {
   "cell_type": "markdown",
   "id": "252ba6c8",
   "metadata": {},
   "source": [
    "En el siguiente codigo verificaremos si el vector está o no en en cono convexo de un conjunto de puntos. Esto a partir de si existe una solución para la matriz creada a partir de usar los puntos iniciales como columnas ver si el vector está en la imagen de esta. \n"
   ]
  },
  {
   "cell_type": "code",
   "execution_count": 27,
   "id": "8476fd8e",
   "metadata": {},
   "outputs": [
    {
     "data": {
      "text/plain": [
       "3-element Vector{Int64}:\n",
       " 0\n",
       " 0\n",
       " 5"
      ]
     },
     "execution_count": 27,
     "metadata": {},
     "output_type": "execute_result"
    }
   ],
   "source": [
    "vector = [0,0,5] #Primero escogemos el punto a evaluar"
   ]
  },
  {
   "cell_type": "code",
   "execution_count": 24,
   "id": "e87c0b48",
   "metadata": {},
   "outputs": [
    {
     "data": {
      "text/plain": [
       "3×3 Matrix{Int64}:\n",
       " 1  0  1\n",
       " 0  1  1\n",
       " 1  1  0"
      ]
     },
     "execution_count": 24,
     "metadata": {},
     "output_type": "execute_result"
    }
   ],
   "source": [
    "puntos =[[1,0,1] [0,1,1] [1,1,0]] # puntos"
   ]
  },
  {
   "cell_type": "markdown",
   "id": "ede68ebe",
   "metadata": {},
   "source": [
    "Debemos crear un sistema lineal que retorne, si existe, la combinación lineal x tal que Ax=b, definiendo A y b como vemos a continuación"
   ]
  },
  {
   "cell_type": "code",
   "execution_count": 28,
   "id": "9ca84676",
   "metadata": {},
   "outputs": [
    {
     "data": {
      "text/plain": [
       "3×3 Matrix{Int64}:\n",
       " 2  1  1\n",
       " 1  2  1\n",
       " 1  1  2"
      ]
     },
     "execution_count": 28,
     "metadata": {},
     "output_type": "execute_result"
    }
   ],
   "source": [
    "#matrix = [a for a in hull] #Matriz que sus columnas son los puntos exteriores del convex hull\n",
    "matrix= puntos\n",
    "Tmatrix = transpose(matrix)\n",
    "\n",
    "#Minimos cuadrados:\n",
    "b = Tmatrix*vector\n",
    "A = (Tmatrix)*(matrix)\n"
   ]
  },
  {
   "cell_type": "markdown",
   "id": "fa1a925f",
   "metadata": {},
   "source": [
    "Importamos la librearia LinearAlgebra la cual nos permite hallar el determinante de la matriz A, en caso de que este sea 0 ya nos indica que el vector no es una combinación lineal de los puntos, por lo que evidentemente no será una combinación cónica, por lo que descarttamos ese caso. Cuando existe un x, el cual será nuestra combinación lineal debemos verificar que sus elementos sean no negativos, en csao de ser así, el vector está dentro del cono. Tambien, como refuerxo verifico que efectivamente, gracias a algebra lineal si el punto está dentro de la combinación lineal de los puntos."
   ]
  },
  {
   "cell_type": "code",
   "execution_count": 29,
   "id": "47a341d7",
   "metadata": {},
   "outputs": [
    {
     "name": "stdout",
     "output_type": "stream",
     "text": [
      "[0, 0, 5] No está en el cono convexo "
     ]
    }
   ],
   "source": [
    "using LinearAlgebra\n",
    "\n",
    "if det(A)!=0\n",
    "    T = (matrix)*(inv(A))*(Tmatrix) \n",
    "end\n",
    "\n",
    "if det(A)== 0\n",
    "    print(vector, \" No está en el cono convexo I\")\n",
    "else\n",
    "    x=inv(A)*b\n",
    "    if all(>=(0), x)\n",
    "        print(vector, \" Está en el cono convexo\")\n",
    "    else\n",
    "        print(vector, \" No está en el cono convexo \")\n",
    "    end\n",
    "    \n",
    "end\n",
    "\n"
   ]
  },
  {
   "cell_type": "markdown",
   "id": "022ecc00",
   "metadata": {},
   "source": [
    "Conclusión: funciona y está una chimba"
   ]
  }
 ],
 "metadata": {
  "kernelspec": {
   "display_name": "Julia 1.7.2",
   "language": "julia",
   "name": "julia-1.7"
  },
  "language_info": {
   "file_extension": ".jl",
   "mimetype": "application/julia",
   "name": "julia",
   "version": "1.7.2"
  }
 },
 "nbformat": 4,
 "nbformat_minor": 5
}
